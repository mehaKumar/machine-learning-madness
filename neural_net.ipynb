{
 "cells": [
  {
   "cell_type": "code",
   "execution_count": null,
   "metadata": {},
   "outputs": [],
   "source": [
    "import tensorflow as tf"
   ]
  },
  {
   "cell_type": "code",
   "execution_count": null,
   "metadata": {},
   "outputs": [],
   "source": [
    "# processing input training data\n",
    "feature_columns=tf.contrib.learn.infer_real_valued_columns_from_input(XTrain)\n",
    "\n",
    "# makes a deep neural network with 2 hidden layers with 512 neurons each, and 10 output neurons\n",
    "dnn_clf=tf.contrib.learn.DNNClassifier(hidden_units=[512,512], n_classes=10, feature_columns=feature_columns)\n",
    "\n",
    "# fits the DNN to the training data using the training labels\n",
    "dnn_clf.fit(x=XTrain, y=yi, batch_size=50, steps=40000)\n",
    "\n",
    "# evaluates the performance of the DNN on the training data\n",
    "dnn_clf.evaluate(XTrain, yi)"
   ]
  }
 ],
 "metadata": {
  "kernelspec": {
   "display_name": "Python 3",
   "language": "python",
   "name": "python3"
  },
  "language_info": {
   "codemirror_mode": {
    "name": "ipython",
    "version": 3
   },
   "file_extension": ".py",
   "mimetype": "text/x-python",
   "name": "python",
   "nbconvert_exporter": "python",
   "pygments_lexer": "ipython3",
   "version": "3.7.3"
  }
 },
 "nbformat": 4,
 "nbformat_minor": 2
}
