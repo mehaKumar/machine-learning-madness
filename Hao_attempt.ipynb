{
 "cells": [
  {
   "cell_type": "code",
   "execution_count": 192,
   "metadata": {},
   "outputs": [],
   "source": [
    "import numpy as np\n",
    "import matplotlib.pyplot as plt\n",
    "import pandas as pd\n",
    "from sklearn import linear_model\n",
    "from sklearn.ensemble import GradientBoostingRegressor, RandomForestClassifier\n",
    "from sklearn.metrics import mean_squared_error, log_loss"
   ]
  },
  {
   "cell_type": "code",
   "execution_count": 307,
   "metadata": {},
   "outputs": [],
   "source": [
    "# To get basic data of a team in a tournament\n",
    "# def getTeamDataByYear(year, team):\n",
    "#     basic_data = pd.read_excel(io=\"./data/formatted/basic/basicdata\" + year + \".xlsx\")\n",
    "#     row = basic_data.loc[basic_data['School'] == team]\n",
    "#     team_data = row.copy() #prevent modifying basic_data\n",
    "#     team_data.drop('ID', axis=1, inplace=True)\n",
    "#     team_data.drop('School', axis=1, inplace=True)\n",
    "#     team_data['teamSeed'] = getTeamSeedByYear(year, team)\n",
    "#     return team_data\n",
    "    \n",
    "# def getTeamSeedByYear(year, team):\n",
    "#     games = pd.read_csv(\"./data/playoff/playoffdata\" + year + \".csv\")\n",
    "#     first = breakdownBracket(games)[0]\n",
    "#     for index, row in first.iterrows():\n",
    "#         if (row['winnerName'] == team):\n",
    "#             return row['winnerSeed']\n",
    "#         elif (row['loserName'] == team):\n",
    "#             return row['loserSeed']\n",
    "#     print(\"cannot find team %s seed\", team)\n",
    "#     return -1\n",
    "\n",
    "# def calculateLabelsPerYear(year, games):\n",
    "#     playoff_results = pd.read_csv(\"./data/playoff/playoffdata\" + year + \".csv\")\n",
    "#     winner_names = playoff_results['winnerName']\n",
    "#     labels = winner_names.copy()\n",
    "#     for index, row in games.iterrows():\n",
    "#         if row['teamAName'] == winner_names.loc[index]:\n",
    "#             labels.loc[index] = 1\n",
    "#         else:\n",
    "#             labels.loc[index] = 0\n",
    "#     return labels.to_frame()\n",
    "    \n",
    " \n",
    "# find difference between two teams' stats\n",
    "# def compareTwoTeams(teamAName, teamBName, year):\n",
    "#     team_A = getTeamDataByYear(year, teamAName)\n",
    "#     team_B = getTeamDataByYear(year, teamBName)\n",
    "#     if len(team_A.columns) == len(team_B.columns):\n",
    "#         diff = team_A.copy()\n",
    "#         for col in team_A.columns:\n",
    "#             diff[col] = team_A[col].values[0] - team_B[col].values[0]\n",
    "#         return diff\n",
    "#     else: \n",
    "#         print(\"Team A column length: \", len(team_A.columns))\n",
    "#         print(\"Team B column length: \", len(team_B.columns))\n",
    "#         print(\"Something is wrong in the data\")\n",
    "#         return None\n",
    "\n",
    "# def extractData(data, year):\n",
    "#     x_train = None\n",
    "#     for index, game in data.iterrows():\n",
    "#         diff = compareTwoTeams(game['teamAName'], game['teamBName'], year)\n",
    "#         x_train = diff if x_train is None else pd.concat([x_train, diff])\n",
    "#     return x_train\n"
   ]
  },
  {
   "cell_type": "code",
   "execution_count": 176,
   "metadata": {},
   "outputs": [],
   "source": [
    "# ## Train and Test with one year\n",
    "# def getTestingData(target_year):\n",
    "#     train_data = sortAllGamesBySeed(target_year)\n",
    "#     teams_first, second, third, fourth, semi, final = breakdownBracket(train_data)\n",
    "\n",
    "#     train_labels = calculateLabelsPerYear(target_year, train_data)\n",
    "#     labels_first, y_second, y_third, y_fourth, y_semi, y_final = breakdownBracket(train_labels)\n",
    "    \n",
    "#     x_test = extractData(teams_first, target_year)\n",
    "#     x_test.drop('PersonalFouls', axis=1, inplace=True)\n",
    "#     return x_test, labels_first"
   ]
  },
  {
   "cell_type": "code",
   "execution_count": 77,
   "metadata": {},
   "outputs": [
    {
     "name": "stdout",
     "output_type": "stream",
     "text": [
      "The accuracy is 0.875\n"
     ]
    }
   ],
   "source": [
    "y_test = y_second['winnerName'].values.tolist()\n",
    "accuracy.append(np.mean(preds == y_test))\n",
    "# print (\"Finished iteration:\", i)\n",
    "print (\"The accuracy is\", sum(accuracy)/len(accuracy))"
   ]
  },
  {
   "cell_type": "code",
   "execution_count": 362,
   "metadata": {},
   "outputs": [],
   "source": [
    "#### DIFFERENT FROM ABOVE\n",
    "#### USE ALL DATA TO TRAIN\n",
    "\n",
    "# private method used in sortAllGamesBySeed\n",
    "def swap(row):   \n",
    "    d = {\n",
    "        'season': [row.pop('season')],\n",
    "        'teamAName': [row.pop('teamBName')],\n",
    "        'teamASeed': [row.pop('teamBSeed')],\n",
    "        'teamBName': [row.pop('teamAName')],\n",
    "        'teamBSeed': [row.pop('teamASeed')],\n",
    "    }\n",
    "    updated_row = pd.DataFrame(data=d)\n",
    "    return updated_row\n",
    "    \n",
    "# left = higherSeed, right = lowerSeed\n",
    "def sortAllGamesBySeed(year):\n",
    "    playoff_data = pd.read_csv(\"./data/playoff/playoffdata\" + year + \".csv\")\n",
    "\n",
    "    ## Swap columns so higher seed (lower value) on the left, lower seed (higher value) on the right\n",
    "    updated_data = playoff_data.copy()\n",
    "    updated_data.columns = ['season', 'teamAName', 'teamASeed', 'teamBName', 'teamBSeed']\n",
    "    for index, row in updated_data.iterrows():\n",
    "        if row['teamASeed'] > row['teamBSeed']:\n",
    "            updated_data.loc[index,['teamAName', 'teamBName']] = updated_data.loc[index,['teamBName', 'teamAName']].values\n",
    "            updated_data.loc[index,['teamASeed', 'teamBSeed']] = updated_data.loc[index,['teamBSeed', 'teamASeed']].values\n",
    "    return updated_data\n",
    "\n",
    "\n",
    "# break down the bracket into rounds\n",
    "def breakdownBracket(updated_data):\n",
    "    first_round = None\n",
    "    second_round = None\n",
    "    third_round = None\n",
    "    fourth_round = None\n",
    "    semi_final = updated_data.iloc[60 : 62]\n",
    "    final = updated_data.iloc[62 : 63]\n",
    "    for region_index in range(0, 60, 15): \n",
    "        first = updated_data.iloc[region_index : region_index + 8]\n",
    "        first_round = first if first_round is None else pd.concat([first_round, first])\n",
    "\n",
    "        second = updated_data.iloc[region_index + 8 : region_index + 12, :]  \n",
    "        second_round = second if second_round is None else pd.concat([second_round, second])\n",
    "\n",
    "        third = updated_data.iloc[region_index + 12 : region_index + 14]\n",
    "        third_round = third if third_round is None else pd.concat([third_round, third])\n",
    "\n",
    "        fourth = updated_data.iloc[region_index + 14 : region_index + 15]\n",
    "        fourth_round = fourth if fourth_round is None else pd.concat([fourth_round, fourth])\n",
    "    return first_round, second_round, third_round, fourth_round, semi_final, final\n",
    "\n",
    "\n",
    "def swapGames(playoff_data):\n",
    "#     playoff_data = pd.read_csv(\"./data/playoff/playoffdata\" + year + \".csv\")\n",
    "\n",
    "    ## Swap columns so higher seed (lower value) on the left, lower seed (higher value) on the right\n",
    "    updated_data = playoff_data.copy()\n",
    "    updated_data.columns = ['season', 'teamAName', 'teamASeed', 'teamBName', 'teamBSeed']\n",
    "    for index, row in updated_data.iterrows():\n",
    "        if row['teamASeed'] > row['teamBSeed']:\n",
    "            updated_data.loc[index,['teamAName', 'teamBName']] = updated_data.loc[index,['teamBName', 'teamAName']].values\n",
    "            updated_data.loc[index,['teamASeed', 'teamBSeed']] = updated_data.loc[index,['teamBSeed', 'teamASeed']].values\n",
    "    return updated_data\n",
    "\n",
    "def calculateLabels(year, games):\n",
    "    playoff_results = pd.read_csv(\"./data/playoff/playoffdata\" + year + \".csv\")\n",
    "    winner_names = playoff_results['winnerName']\n",
    "    labels = winner_names.copy()\n",
    "    for index, row in games.iterrows():\n",
    "        if row['teamAName'] == winner_names.loc[index]:\n",
    "            labels.loc[index] = 1\n",
    "        else:\n",
    "            labels.loc[index] = 0\n",
    "    return labels.to_frame()\n",
    "\n",
    "\n",
    "def compareTeams(team_a_info, team_b_info):\n",
    "    if len(team_a_info.columns) == len(team_b_info.columns):\n",
    "        diff = team_a_info.copy()\n",
    "        for col in team_a_info.columns:\n",
    "            diff[col] = team_a_info[col].values - team_b_info[col].values\n",
    "        return diff\n",
    "    else: \n",
    "        print(\"Team A column length: \", len(team_A.columns))\n",
    "        print(\"Team B column length: \", len(team_B.columns))\n",
    "        print(\"Something is wrong in the data\")\n",
    "        return None\n",
    "\n",
    "\n",
    "def getAllGames(years):\n",
    "    all_games = None\n",
    "    all_labels = None\n",
    "    for year in years:\n",
    "        data = pd.read_csv(\"./data/playoff/playoffdata\" + year + \".csv\")\n",
    "        playoff_data = swapGames(data.copy())\n",
    "        labels = calculateLabels(year, playoff_data)\n",
    "    \n",
    "        data = pd.read_excel(io=\"./data/formatted/basic/basicdata\" + year + \".xlsx\")\n",
    "        team_basic_data = data.copy()\n",
    "        \n",
    "        team_a = playoff_data.iloc[:, 1:3]\n",
    "        team_b = playoff_data.iloc[:, 3:5]\n",
    "        \n",
    "        team_a = team_a.merge(team_basic_data, left_on='teamAName', right_on='School', how='left')\n",
    "        team_a = team_a.rename(columns={\"teamASeed\": \"seed\"})\n",
    "        team_a.drop('teamAName', axis=1, inplace=True)\n",
    "#         team_a.drop('teamASeed', axis=1, inplace=True)\n",
    "        team_a.drop('School', axis=1, inplace=True)\n",
    "        team_a.drop('ID', axis=1, inplace=True)\n",
    "        team_a.drop('PersonalFouls', axis=1, inplace=True)\n",
    "        \n",
    "        team_b = team_b.merge(team_basic_data, left_on='teamBName', right_on='School', how='left')\n",
    "        team_b = team_b.rename(columns={\"teamBSeed\": \"seed\"})\n",
    "        team_b.drop('teamBName', axis=1, inplace=True)\n",
    "#         team_b.drop('teamBSeed', axis=1, inplace=True)\n",
    "        team_b.drop('School', axis=1, inplace=True)\n",
    "        team_b.drop('ID', axis=1, inplace=True)\n",
    "        team_b.drop('PersonalFouls', axis=1, inplace=True)\n",
    "        \n",
    "        diff_games = compareTeams(team_a, team_b)\n",
    "        \n",
    "        all_labels = labels if all_labels is None else pd.concat([all_labels, labels])\n",
    "        all_games = diff_games if all_games is None else pd.concat([all_games, diff_games])\n",
    "    \n",
    "    return all_games, all_labels\n",
    "\n",
    "\n",
    "def normalizeData(data): \n",
    "    updated_data = data.copy()\n",
    "    for col in data.columns:\n",
    "        rows = data[col].values\n",
    "        min_val = min(rows)\n",
    "        rows = (rows + abs(min_val))\n",
    "        updated_data.update(pd.DataFrame({col: rows}))\n",
    "    return updated_data\n",
    "\n",
    "test_years = [\n",
    "    '201617', '201718','201819'\n",
    "]\n",
    "train_years = [\n",
    "    '200001','200102', '200203', '200304', '200405', '200506', '200607', '200708', '200809', '200910',\n",
    "    '201011', '201112', '201213','201314', '201415','201516'\n",
    "]\n",
    "selected = 1"
   ]
  },
  {
   "cell_type": "code",
   "execution_count": 364,
   "metadata": {},
   "outputs": [],
   "source": [
    "x_train, y_train = getAllGames(train_years)\n",
    "x_test, y_test = getAllGames([test_years[selected]])"
   ]
  },
  {
   "cell_type": "code",
   "execution_count": 365,
   "metadata": {},
   "outputs": [],
   "source": [
    "# norm_x_train = normalizeData(x_train)\n",
    "# norm_x_test = normalizeData(x_test)\n",
    "# print(norm_x_train)"
   ]
  },
  {
   "cell_type": "code",
   "execution_count": 378,
   "metadata": {},
   "outputs": [],
   "source": [
    "gbr = GradientBoostingRegressor(n_estimators=100, max_depth=5)\n",
    "# rfc = RandomForestClassifier(n_estimators=64)"
   ]
  },
  {
   "cell_type": "code",
   "execution_count": 375,
   "metadata": {
    "scrolled": true
   },
   "outputs": [],
   "source": [
    "def execute(model, x_train, y_train, x_test, y_test, epochs):\n",
    "    for i in range(epochs):\n",
    "        model.fit(x_train, y_train['winnerName'].tolist())\n",
    "    pred = model.predict(x_test)\n",
    "#     pred_proba = model.predict_proba(x_test)\n",
    "    mse = mean_squared_error(y_test, pred)\n",
    "    print(\"MSE: \", mse)\n",
    "#     print(\"pred:\", pred)\n",
    "#     print(\"pred_proba:\", pred_proba)\n",
    "#     print(\"Log Loss for Proba: \", log_loss(y_test, pred_proba))\n",
    "    print(\"Score:\", model.score(x_test, y_test))\n",
    "    print('----------------------------------------')\n",
    "    return pred\n",
    "\n",
    "def findWinners(predicted_labels, games):\n",
    "    team_a_names = games['teamAName'].values\n",
    "    team_b_names = games['teamBName'].values\n",
    "    winners = list()\n",
    "    for i in range(len(predicted_labels)):\n",
    "        winner = predicted_labels[i]\n",
    "        if winner == 1: \n",
    "            winners.append(team_a_names[i])\n",
    "        elif winner == 0: \n",
    "            winners.append(team_b_names[i])\n",
    "    return winners"
   ]
  },
  {
   "cell_type": "code",
   "execution_count": 379,
   "metadata": {},
   "outputs": [
    {
     "name": "stdout",
     "output_type": "stream",
     "text": [
      "MSE:  0.10975130053550407\n",
      "Score: 0.49348498624951687\n",
      "----------------------------------------\n"
     ]
    }
   ],
   "source": [
    "pred_labels = execute(rfc, x_train, y_train, x_test, y_test, 100)\n"
   ]
  },
  {
   "cell_type": "code",
   "execution_count": null,
   "metadata": {},
   "outputs": [],
   "source": [
    "MSE:  0.19047619047619047\n",
    "Log Loss for Proba:  0.4015518423510818\n",
    "Score: 0.8095238095238095\n",
    "----------------------------------------\n",
    "MSE:  0.1746031746031746\n",
    "Log Loss for Proba:  0.40287693665755603\n",
    "Score: 0.8253968253968254"
   ]
  },
  {
   "cell_type": "code",
   "execution_count": 238,
   "metadata": {},
   "outputs": [
    {
     "name": "stdout",
     "output_type": "stream",
     "text": [
      "MSE: 0.2917077840735064\n",
      "Log Loss: 0.9039714613295866\n",
      "accurracy: 0.84375\n"
     ]
    }
   ],
   "source": [
    "# team_names, expected_winner = getTestingData('201819')\n",
    "# result = model.predict(team_names)\n",
    "# result_mse = mean_squared_error(expected_winner, result)\n",
    "# print(\"MSE:\", result_mse)\n",
    "# print(\"Log Loss:\", log_loss(expected_winner, result))\n",
    "# accurracy(result)"
   ]
  },
  {
   "cell_type": "code",
   "execution_count": 386,
   "metadata": {},
   "outputs": [
    {
     "name": "stdout",
     "output_type": "stream",
     "text": [
      "[1.01329661 0.01589287 0.98492134 0.16575307 0.41006614 0.90515072\n",
      " 0.27753515 1.00271622 0.88587042 1.00751939 0.93572133 0.9566334\n",
      " 1.07960267 0.63157343 1.03120912 0.98580148 1.03730711 0.6935431\n",
      " 0.82780146 0.10370697 0.96685547 0.555259   0.94885848 1.02549746\n",
      " 0.11812609 0.75309108 1.02551121 0.9092606  0.97438006 0.63486987\n",
      " 0.87362238 0.09663744 0.76694669 1.01897093 0.96751052 1.03007861\n",
      " 0.74120403 0.99582345 0.81639243 0.77507603 1.06239143 0.95847244\n",
      " 0.95717761 0.70384014 0.96674135 0.65460556 0.01344722 0.48359847\n",
      " 0.44449452 0.22270369 0.92998172 1.00539539 1.0223881  0.96475036\n",
      " 0.59805812 0.40480652 0.07834212 0.44141082 0.20210165 0.61106316\n",
      " 0.65061257 0.98892957 0.60102686]\n"
     ]
    }
   ],
   "source": [
    "data = pd.read_csv(\"./data/playoff/playoffdata\" + test_years[selected] + \".csv\")\n",
    "playoff_data = swapGames(data.copy())\n",
    "games = breakdownBracket(playoff_data)[0]\n",
    "winners = pd.DataFrame({'winnerName': data['winnerName'].tolist(), 'seed': data['winnerSeed'].tolist()})\n",
    "actual_winners = breakdownBracket(winners)[0]['winnerName'].tolist()\n",
    "actual_seeds = breakdownBracket(winners)[0]['seed'].tolist()\n",
    "winner_names = findWinners(pred_labels[:len(games)], games)"
   ]
  },
  {
   "cell_type": "code",
   "execution_count": 385,
   "metadata": {},
   "outputs": [
    {
     "name": "stdout",
     "output_type": "stream",
     "text": [
      "Right: Win above seed! 0\n",
      "Right: Higher seed won 0\n",
      "Wrong: uh oh, model prefers higher seed 0\n",
      "Wrong: missed but choose higher seed 0\n",
      "0\n"
     ]
    }
   ],
   "source": [
    "win_above_seed = 0 \n",
    "higher_seed_won = 0\n",
    "prefer_higher_seed=0\n",
    "missed = 0\n",
    "for i in range(len(winner_names)):\n",
    "    if winner_names[i] == actual_winners[i]: \n",
    "        if actual_seeds[i] > 8:\n",
    "#             print(\"Win above seed!\")\n",
    "            win_above_seed += 1\n",
    "        else:\n",
    "#             print(\"Higher seed won\")\n",
    "            higher_seed_won += 1\n",
    "    elif winner_names[i] != actual_winners[i]:\n",
    "        if actual_seeds[i] > 8:\n",
    "#             print(\"uh oh, model prefers higher seed\")\n",
    "            prefer_higher_seed +=1\n",
    "        else:\n",
    "#             print(\"Guessed: \" + winner_names[i] + \" Actual: \" + actual_winners[i])\n",
    "            missed += 1\n",
    "    else: \n",
    "        print(\"what is this condition???\")\n",
    "        \n",
    "print(\"Right: Win above seed!\", win_above_seed)\n",
    "print(\"Right: Higher seed won\", higher_seed_won)\n",
    "print(\"Wrong: uh oh, model prefers higher seed\", prefer_higher_seed)\n",
    "print(\"Wrong: missed but choose higher seed\", missed)\n",
    "print(len(winner_names))"
   ]
  }
 ],
 "metadata": {
  "kernelspec": {
   "display_name": "Python 3",
   "language": "python",
   "name": "python3"
  },
  "language_info": {
   "codemirror_mode": {
    "name": "ipython",
    "version": 3
   },
   "file_extension": ".py",
   "mimetype": "text/x-python",
   "name": "python",
   "nbconvert_exporter": "python",
   "pygments_lexer": "ipython3",
   "version": "3.7.0"
  }
 },
 "nbformat": 4,
 "nbformat_minor": 2
}
