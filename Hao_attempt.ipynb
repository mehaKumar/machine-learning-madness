{
 "cells": [
  {
   "cell_type": "code",
   "execution_count": 145,
   "metadata": {},
   "outputs": [],
   "source": [
    "import numpy as np\n",
    "import matplotlib.pyplot as plt\n",
    "import pandas as pd\n",
    "from sklearn import linear_model\n",
    "from sklearn.ensemble import GradientBoostingRegressor\n",
    "from sklearn.metrics import mean_squared_error, log_loss"
   ]
  },
  {
   "cell_type": "code",
   "execution_count": 80,
   "metadata": {},
   "outputs": [],
   "source": [
    "# To get basic data of a team in a tournament\n",
    "def getTeamDataByYear(year, team):\n",
    "    basic_data = pd.read_excel(io=\"./data/formatted/basic/basicdata\" + year + \".xlsx\")\n",
    "    row = basic_data.loc[basic_data['School'] == team]\n",
    "    team_data = row.copy() #prevent modifying basic_data\n",
    "    team_data.drop('ID', axis=1, inplace=True)\n",
    "    team_data.drop('School', axis=1, inplace=True)\n",
    "    team_data['teamSeed'] = getTeamSeedByYear(year, team)\n",
    "    return team_data\n",
    "    \n",
    "def getTeamSeedByYear(year, team):\n",
    "    games = pd.read_csv(\"./data/playoff/playoffdata\" + year + \".csv\")\n",
    "    first = breakdownBracket(games)[0]\n",
    "    for index, row in first.iterrows():\n",
    "        if (row['winnerName'] == team):\n",
    "            return row['winnerSeed']\n",
    "        elif (row['loserName'] == team):\n",
    "            return row['loserSeed']\n",
    "    print(\"cannot find team %s seed\", team)\n",
    "    return -1\n",
    "\n",
    "def calculateLabels(year, games):\n",
    "    playoff_results = pd.read_csv(\"./data/playoff/playoffdata\" + year + \".csv\")\n",
    "    winner_names = playoff_results['winnerName']\n",
    "    labels = winner_names.copy()\n",
    "    for index, row in games.iterrows():\n",
    "        if row['teamAName'] == winner_names.loc[index]:\n",
    "            labels.loc[index] = 1\n",
    "        else:\n",
    "            labels.loc[index] = 0\n",
    "    return labels.to_frame()\n",
    "    \n",
    "# private method used in sortAllGamesBySeed\n",
    "def swap(row):   \n",
    "    d = {\n",
    "        'season': [row.pop('season')],\n",
    "        'teamAName': [row.pop('teamBName')],\n",
    "        'teamASeed': [row.pop('teamBSeed')],\n",
    "        'teamBName': [row.pop('teamAName')],\n",
    "        'teamBSeed': [row.pop('teamASeed')],\n",
    "    }\n",
    "    updated_row = pd.DataFrame(data=d)\n",
    "    return updated_row\n",
    "    \n",
    "# left = higherSeed, right = lowerSeed\n",
    "def sortAllGamesBySeed(year):\n",
    "    playoff_data = pd.read_csv(\"./data/playoff/playoffdata\" + year + \".csv\")\n",
    "\n",
    "    ## Swap columns so higher seed (lower value) on the left, lower seed (higher value) on the right\n",
    "    updated_data = playoff_data.copy()\n",
    "    updated_data.columns = ['season', 'teamAName', 'teamASeed', 'teamBName', 'teamBSeed']\n",
    "    for index, row in updated_data.iterrows():\n",
    "        if row['teamASeed'] > row['teamBSeed']:\n",
    "            updated_data.loc[index,['teamAName', 'teamBName']] = updated_data.loc[index,['teamBName', 'teamAName']].values\n",
    "            updated_data.loc[index,['teamASeed', 'teamBSeed']] = updated_data.loc[index,['teamBSeed', 'teamASeed']].values\n",
    "    return updated_data\n",
    "\n",
    "# break down the bracket into rounds\n",
    "def breakdownBracket(updated_data):\n",
    "    first_round = None\n",
    "    second_round = None\n",
    "    third_round = None\n",
    "    fourth_round = None\n",
    "    semi_final = updated_data.iloc[60 : 62]\n",
    "    final = updated_data.iloc[62 : 63]\n",
    "    for region_index in range(0, 60, 15): \n",
    "        first = updated_data.iloc[region_index : region_index + 8]\n",
    "        first_round = first if first_round is None else pd.concat([first_round, first])\n",
    "\n",
    "        second = updated_data.iloc[region_index + 8 : region_index + 12]  \n",
    "        second_round = second if second_round is None else pd.concat([second_round, second])\n",
    "\n",
    "        third = updated_data.iloc[region_index + 12 : region_index + 14]\n",
    "        third_round = third if third_round is None else pd.concat([third_round, third])\n",
    "\n",
    "        fourth = updated_data.iloc[region_index + 14 : region_index + 15]\n",
    "        fourth_round = fourth if fourth_round is None else pd.concat([fourth_round, fourth])\n",
    "    return first_round, second_round, third_round, fourth_round, semi_final, final\n",
    " \n",
    "# find difference between two teams' stats\n",
    "def compareTwoTeams(teamAName, teamBName, year):\n",
    "    team_A = getTeamDataByYear(year, teamAName)\n",
    "    team_B = getTeamDataByYear(year, teamBName)\n",
    "    if len(team_A.columns) == len(team_B.columns):\n",
    "        diff = team_A.copy()\n",
    "        for col in team_A.columns:\n",
    "            diff[col] = team_A[col].values[0] - team_B[col].values[0]\n",
    "        return diff\n",
    "    else: \n",
    "        print(\"Team A column length: \", len(team_A.columns))\n",
    "        print(\"Team B column length: \", len(team_B.columns))\n",
    "        print(\"Something is wrong in the data\")\n",
    "        return None\n",
    "\n",
    "# compareTwoTeams('Duke', 'Arizona', 200001)\n",
    "def extractData(data, year):\n",
    "    x_train = None\n",
    "    for index, game in data.iterrows():\n",
    "        diff = compareTwoTeams(game['teamAName'], game['teamBName'], year)\n",
    "        x_train = diff if x_train is None else pd.concat([x_train, diff])\n",
    "    return x_train\n"
   ]
  },
  {
   "cell_type": "code",
   "execution_count": 78,
   "metadata": {},
   "outputs": [
    {
     "name": "stdout",
     "output_type": "stream",
     "text": [
      "[9.99770907e-01 9.99770907e-01 9.99770907e-01 9.99770907e-01\n",
      " 9.99770907e-01 9.99770907e-01 4.61335499e-03 3.74239163e-04\n",
      " 3.74239163e-04 9.99770907e-01 3.90361294e-01 3.03136910e-01\n",
      " 9.99770907e-01 9.99770907e-01 9.99770907e-01 9.00854487e-01]\n"
     ]
    },
    {
     "name": "stderr",
     "output_type": "stream",
     "text": [
      "/home/hdang/.pyenv/versions/3.7.0/lib/python3.7/site-packages/sklearn/ensemble/gradient_boosting.py:1450: DataConversionWarning: A column-vector y was passed when a 1d array was expected. Please change the shape of y to (n_samples, ), for example using ravel().\n",
      "  y = column_or_1d(y, warn=True)\n"
     ]
    }
   ],
   "source": [
    "## Train and Test with one year\n",
    "target_year = '200001'\n",
    "train_data = sortAllGamesBySeed(target_year)\n",
    "first, second, third, fourth, semi, final = breakdownBracket(train_data)\n",
    "\n",
    "x_train = extractData(first, target_year)\n",
    "x_test = extractData(second, target_year)\n",
    "    \n",
    "train_labels = calculateLabels(target_year, train_data)\n",
    "y_first, y_second, y_third, y_fourth, y_semi, y_final = breakdownBracket(train_labels)\n",
    "\n",
    "accuracy = []\n",
    "model = GradientBoostingRegressor(n_estimators=100, max_depth=5)\n",
    "results = model.fit(x_train, y_first)\n",
    "preds = model.predict(x_test)\n",
    "preds[preds < .5] = 0\n",
    "preds[preds >= .5] = 1\n",
    "\n",
    "print(preds)\n"
   ]
  },
  {
   "cell_type": "code",
   "execution_count": 77,
   "metadata": {},
   "outputs": [
    {
     "name": "stdout",
     "output_type": "stream",
     "text": [
      "The accuracy is 0.875\n"
     ]
    }
   ],
   "source": [
    "y_test = y_second['winnerName'].values.tolist()\n",
    "accuracy.append(np.mean(preds == y_test))\n",
    "# print (\"Finished iteration:\", i)\n",
    "print (\"The accuracy is\", sum(accuracy)/len(accuracy))"
   ]
  },
  {
   "cell_type": "code",
   "execution_count": 165,
   "metadata": {},
   "outputs": [],
   "source": [
    "#### DIFFERENT FROM ABOVE\n",
    "#### USE ALL DATA TO TRAIN\n",
    "\n",
    "\n",
    "def swapGames(playoff_data):\n",
    "#     playoff_data = pd.read_csv(\"./data/playoff/playoffdata\" + year + \".csv\")\n",
    "\n",
    "    ## Swap columns so higher seed (lower value) on the left, lower seed (higher value) on the right\n",
    "    updated_data = playoff_data.copy()\n",
    "    updated_data.columns = ['season', 'teamAName', 'teamASeed', 'teamBName', 'teamBSeed']\n",
    "    for index, row in updated_data.iterrows():\n",
    "        if row['teamASeed'] > row['teamBSeed']:\n",
    "            updated_data.loc[index,['teamAName', 'teamBName']] = updated_data.loc[index,['teamBName', 'teamAName']].values\n",
    "            updated_data.loc[index,['teamASeed', 'teamBSeed']] = updated_data.loc[index,['teamBSeed', 'teamASeed']].values\n",
    "    return updated_data\n",
    "\n",
    "def calculateLabels(year, games):\n",
    "    playoff_results = pd.read_csv(\"./data/playoff/playoffdata\" + year + \".csv\")\n",
    "    winner_names = playoff_results['winnerName']\n",
    "    labels = winner_names.copy()\n",
    "    for index, row in games.iterrows():\n",
    "        if row['teamAName'] == winner_names.loc[index]:\n",
    "            labels.loc[index] = 1\n",
    "        else:\n",
    "            labels.loc[index] = 0\n",
    "    return labels.to_frame()\n",
    "\n",
    "\n",
    "def compareTeams(team_a_info, team_b_info):\n",
    "    if len(team_a_info.columns) == len(team_b_info.columns):\n",
    "        diff = team_a_info.copy()\n",
    "        for col in team_a_info.columns:\n",
    "            diff[col] = team_a_info[col].values - team_b_info[col].values\n",
    "        return diff\n",
    "    else: \n",
    "        print(\"Team A column length: \", len(team_A.columns))\n",
    "        print(\"Team B column length: \", len(team_B.columns))\n",
    "        print(\"Something is wrong in the data\")\n",
    "        return None\n",
    "    \n",
    "test_years = [\n",
    "    '201617', '201718', '201819'\n",
    "]\n",
    "train_years = [\n",
    "    '200001','200102', '200203', '200304', '200405', '200506', '200607', '200708', '200809', '200910',\n",
    "    '201011', '201112', '201213','201314', '201415','201516'\n",
    "]\n",
    "\n",
    "def getAllGames(years):\n",
    "    all_games = None\n",
    "    all_labels = None\n",
    "    for year in years:\n",
    "        data = pd.read_csv(\"./data/playoff/playoffdata\" + year + \".csv\")\n",
    "        playoff_data = swapGames(data.copy())\n",
    "        labels = calculateLabels(year, playoff_data)\n",
    "    \n",
    "        data = pd.read_excel(io=\"./data/formatted/basic/basicdata\" + year + \".xlsx\")\n",
    "        team_basic_data = data.copy()\n",
    "        \n",
    "        team_a = playoff_data.iloc[:, 1:3]\n",
    "        team_b = playoff_data.iloc[:, 3:5]\n",
    "        \n",
    "        team_a = team_a.merge(team_basic_data, left_on='teamAName', right_on='School', how='left')\n",
    "        team_a = team_a.rename(columns={\"teamASeed\": \"seed\"})\n",
    "        team_a.drop('teamAName', axis=1, inplace=True)\n",
    "        team_a.drop('School', axis=1, inplace=True)\n",
    "        team_a.drop('ID', axis=1, inplace=True)\n",
    "        team_a.drop('PersonalFouls', axis=1, inplace=True)\n",
    "        \n",
    "        team_b = team_b.merge(team_basic_data, left_on='teamBName', right_on='School', how='left')\n",
    "        team_b = team_b.rename(columns={\"teamBSeed\": \"seed\"})\n",
    "        team_b.drop('teamBName', axis=1, inplace=True)\n",
    "        team_b.drop('School', axis=1, inplace=True)\n",
    "        team_b.drop('ID', axis=1, inplace=True)\n",
    "        team_b.drop('PersonalFouls', axis=1, inplace=True)\n",
    "        \n",
    "        diff_games = compareTeams(team_a, team_b)\n",
    "        \n",
    "        all_labels = labels if all_labels is None else pd.concat([all_labels, labels])\n",
    "        all_games = diff_games if all_games is None else pd.concat([all_games, diff_games])\n",
    "    \n",
    "    return all_games, all_labels\n"
   ]
  },
  {
   "cell_type": "code",
   "execution_count": 107,
   "metadata": {},
   "outputs": [],
   "source": [
    "x_train, y_train = getAllGames(train_years)\n",
    "x_test, y_test = getAllGames(test_years)"
   ]
  },
  {
   "cell_type": "code",
   "execution_count": 109,
   "metadata": {},
   "outputs": [],
   "source": [
    "## Check to see if any value is NAN\n",
    "# x_train.isna().sum()"
   ]
  },
  {
   "cell_type": "code",
   "execution_count": null,
   "metadata": {},
   "outputs": [],
   "source": [
    "model = GradientBoostingRegressor(n_estimators=100, max_depth=5)\n",
    "# model = RandomForestClassifier(n_estimators=64)"
   ]
  },
  {
   "cell_type": "code",
   "execution_count": 162,
   "metadata": {},
   "outputs": [
    {
     "name": "stdout",
     "output_type": "stream",
     "text": [
      "MSE:  0.13639371952622203\n",
      "Log Loss: 0.45248701856557083\n"
     ]
    }
   ],
   "source": [
    "for i in range(1000):\n",
    "    results = model.fit(x_train, y_train['winnerName'].tolist())\n",
    "    \n",
    "preds = model.predict(x_test)\n",
    "mse = mean_squared_error(y_test, preds)\n",
    "print(\"MSE: \", mse)\n",
    "print(\"Log Loss:\", log_loss(y_test, preds))"
   ]
  },
  {
   "cell_type": "code",
   "execution_count": 164,
   "metadata": {},
   "outputs": [
    {
     "name": "stdout",
     "output_type": "stream",
     "text": [
      "accurracy: 0.7671957671957672\n"
     ]
    }
   ],
   "source": [
    "preds[preds < .5] = 0\n",
    "preds[preds >= .5] = 1\n",
    "print(\"accurracy:\", sum(preds)/len(preds))"
   ]
  }
 ],
 "metadata": {
  "kernelspec": {
   "display_name": "Python 3",
   "language": "python",
   "name": "python3"
  },
  "language_info": {
   "codemirror_mode": {
    "name": "ipython",
    "version": 3
   },
   "file_extension": ".py",
   "mimetype": "text/x-python",
   "name": "python",
   "nbconvert_exporter": "python",
   "pygments_lexer": "ipython3",
   "version": "3.7.0"
  }
 },
 "nbformat": 4,
 "nbformat_minor": 2
}
