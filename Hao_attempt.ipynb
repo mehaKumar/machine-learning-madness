{
 "cells": [
  {
   "cell_type": "code",
   "execution_count": 61,
   "metadata": {},
   "outputs": [],
   "source": [
    "import numpy as np\n",
    "import pandas as pd\n",
    "from sklearn import linear_model\n",
    "from sklearn.ensemble import GradientBoostingRegressor"
   ]
  },
  {
   "cell_type": "code",
   "execution_count": 50,
   "metadata": {},
   "outputs": [],
   "source": [
    "# To get basic data of a team in a tournament\n",
    "def getTeamDataByYear(year, team):\n",
    "    basic_data = pd.read_excel(io=\"./data/formatted/basic/basicdata\" + str(year) + \".xlsx\")\n",
    "    row = basic_data.loc[basic_data['School'] == team]\n",
    "    team_data = row.copy() #prevent modifying basic_data\n",
    "    team_data.drop('ID', axis=1, inplace=True)\n",
    "    team_data.drop('School', axis=1, inplace=True)\n",
    "    return team_data\n",
    "\n",
    "def calculateLabels(year, games):\n",
    "    playoff_results = pd.read_csv(\"./data/playoff/playoffdata\" + str(year) + \".csv\")\n",
    "    winner_names = playoff_results['winnerName']\n",
    "    labels = winner_names.copy()\n",
    "    for index, row in games.iterrows():\n",
    "        if row['teamAName'] == winner_names.loc[index]:\n",
    "            labels.loc[index] = 1\n",
    "        else:\n",
    "            labels.loc[index] = 0\n",
    "    return labels.to_frame()\n",
    "    \n",
    "# private method used in sortAllGamesBySeed\n",
    "def swap(row):   \n",
    "    d = {\n",
    "        'season': [row.pop('season')],\n",
    "        'teamAName': [row.pop('teamBName')],\n",
    "        'teamASeed': [row.pop('teamBSeed')],\n",
    "        'teamBName': [row.pop('teamAName')],\n",
    "        'teamBSeed': [row.pop('teamASeed')],\n",
    "    }\n",
    "    updated_row = pd.DataFrame(data=d)\n",
    "    return updated_row\n",
    "    \n",
    "# left = higherSeed, right = lowerSeed\n",
    "def sortAllGamesBySeed(year):\n",
    "    playoff_data = pd.read_csv(\"./data/playoff/playoffdata\" + str(year) + \".csv\")\n",
    "\n",
    "    ## Swap columns so higher seed (lower value) on the left, lower seed (higher value) on the right\n",
    "    updated_data = playoff_data.copy()\n",
    "    updated_data.columns = ['season', 'teamAName', 'teamASeed', 'teamBName', 'teamBSeed']\n",
    "    for index, row in updated_data.iterrows():\n",
    "        if row['teamASeed'] > row['teamBSeed']:\n",
    "            updated_data.loc[index,['teamAName', 'teamBName']] = updated_data.loc[index,['teamBName', 'teamAName']].values\n",
    "            updated_data.loc[index,['teamASeed', 'teamBSeed']] = updated_data.loc[index,['teamBSeed', 'teamASeed']].values\n",
    "    return updated_data\n",
    "\n",
    "# break down the bracket into rounds\n",
    "def breakdownBracket(updated_data):\n",
    "    first_round = None\n",
    "    second_round = None\n",
    "    third_round = None\n",
    "    fourth_round = None\n",
    "    semi_final = updated_data.iloc[60 : 62]\n",
    "    final = updated_data.iloc[62 : 63]\n",
    "    for region_index in range(0, 60, 15): \n",
    "        first = updated_data.iloc[region_index : region_index + 8]\n",
    "        first_round = first if first_round is None else pd.concat([first_round, first])\n",
    "\n",
    "        second = updated_data.iloc[region_index + 8 : region_index + 12]  \n",
    "        second_round = second if second_round is None else pd.concat([second_round, second])\n",
    "\n",
    "        third = updated_data.iloc[region_index + 12 : region_index + 14]\n",
    "        third_round = third if third_round is None else pd.concat([third_round, third])\n",
    "\n",
    "        fourth = updated_data.iloc[region_index + 14 : region_index + 15]\n",
    "        fourth_round = fourth if fourth_round is None else pd.concat([fourth_round, fourth])\n",
    "    return first_round, second_round, third_round, fourth_round, semi_final, final\n",
    " \n",
    "# find difference between two teams' stats\n",
    "def compareTwoTeams(teamAName, teamBName, year):\n",
    "    team_A = getTeamDataByYear(year, teamAName)\n",
    "    team_B = getTeamDataByYear(year, teamBName)\n",
    "    if len(team_A.columns) == len(team_B.columns):\n",
    "        diff = team_A.copy()\n",
    "        for col in team_A.columns:\n",
    "            diff[col] = team_A[col].values[0] - team_B[col].values[0]\n",
    "        return diff\n",
    "    else: \n",
    "        print(\"Team A column length: \", len(team_A.columns))\n",
    "        print(\"Team B column length: \", len(team_B.columns))\n",
    "        print(\"Something is wrong in the data\")\n",
    "        return None\n",
    "\n",
    "# compareTwoTeams('Duke', 'Arizona', 200001)\n",
    "def extractData(data, year):\n",
    "    x_train = None\n",
    "    for index, game in data.iterrows():\n",
    "        diff = compareTwoTeams(game['teamAName'], game['teamBName'], year)\n",
    "        x_train = diff if x_train is None else pd.concat([x_train, diff])\n",
    "    return x_train"
   ]
  },
  {
   "cell_type": "code",
   "execution_count": 64,
   "metadata": {},
   "outputs": [
    {
     "name": "stdout",
     "output_type": "stream",
     "text": [
      "[1. 1. 1. 1. 1. 1. 0. 0. 0. 1. 0. 0. 1. 1. 1. 1.]\n"
     ]
    },
    {
     "name": "stderr",
     "output_type": "stream",
     "text": [
      "/home/hdang/.pyenv/versions/3.7.0/lib/python3.7/site-packages/sklearn/ensemble/gradient_boosting.py:1450: DataConversionWarning: A column-vector y was passed when a 1d array was expected. Please change the shape of y to (n_samples, ), for example using ravel().\n",
      "  y = column_or_1d(y, warn=True)\n"
     ]
    }
   ],
   "source": [
    "target_year = 200001\n",
    "train_data = sortAllGamesBySeed(target_year)\n",
    "first, second, third, fourth, semi, final = breakdownBracket(train_data)\n",
    "\n",
    "x_train = extractData(first, target_year)\n",
    "x_test = extractData(second, target_year)\n",
    "    \n",
    "train_labels = calculateLabels(target_year, train_data)\n",
    "y_first, y_second, y_third, y_fourth, y_semi, y_final = breakdownBracket(train_labels)\n",
    "\n",
    "accuracy = []\n",
    "model = GradientBoostingRegressor(n_estimators=100, max_depth=5)\n",
    "results = model.fit(x_train, y_first)\n",
    "preds = model.predict(x_test)\n",
    "preds[preds < .5] = 0\n",
    "preds[preds >= .5] = 1\n",
    "\n",
    "print(preds)\n"
   ]
  },
  {
   "cell_type": "code",
   "execution_count": 68,
   "metadata": {},
   "outputs": [
    {
     "name": "stdout",
     "output_type": "stream",
     "text": [
      "The accuracy is 0.875\n"
     ]
    }
   ],
   "source": [
    "y_test = y_second['winnerName'].values.tolist()\n",
    "accuracy.append(np.mean(preds == y_test))\n",
    "# print (\"Finished iteration:\", i)\n",
    "print (\"The accuracy is\", sum(accuracy)/len(accuracy))"
   ]
  }
 ],
 "metadata": {
  "kernelspec": {
   "display_name": "Python 3",
   "language": "python",
   "name": "python3"
  },
  "language_info": {
   "codemirror_mode": {
    "name": "ipython",
    "version": 3
   },
   "file_extension": ".py",
   "mimetype": "text/x-python",
   "name": "python",
   "nbconvert_exporter": "python",
   "pygments_lexer": "ipython3",
   "version": "3.7.0"
  }
 },
 "nbformat": 4,
 "nbformat_minor": 2
}
