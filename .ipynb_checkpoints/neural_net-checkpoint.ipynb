{
 "cells": [
  {
   "cell_type": "code",
   "execution_count": 29,
   "metadata": {},
   "outputs": [],
   "source": [
    "import tensorflow as tf\n",
    "import pandas as pd\n",
    "import numpy as np"
   ]
  },
  {
   "cell_type": "code",
   "execution_count": 30,
   "metadata": {},
   "outputs": [],
   "source": [
    "data = pd.read_excel(io=\"./data/formatted/processedData201819.xlsx\")\n",
    "data = np.array(data)\n",
    "databody = data[:, 2:].copy()\n",
    "r = databody.shape[0]\n",
    "c= databody.shape[1]\n",
    "ind = np.random.choice(r, int(r/2), replace=False)\n",
    "temp = databody[ind, 0:int(c/2)]\n",
    "databody[ind, 0:int(c/2)] = databody[ind, int(c/2):]\n",
    "databody[ind, int(c/2):] = temp\n",
    "oury = np.ones((r, 1))\n",
    "oury[ind] = 0"
   ]
  },
  {
   "cell_type": "code",
   "execution_count": 33,
   "metadata": {},
   "outputs": [
    {
     "ename": "AttributeError",
     "evalue": "module 'tensorflow_core.estimator' has no attribute 'inputs'",
     "output_type": "error",
     "traceback": [
      "\u001b[1;31m---------------------------------------------------------------------------\u001b[0m",
      "\u001b[1;31mAttributeError\u001b[0m                            Traceback (most recent call last)",
      "\u001b[1;32m<ipython-input-33-dc919a0e15d7>\u001b[0m in \u001b[0;36m<module>\u001b[1;34m\u001b[0m\n\u001b[0;32m      1\u001b[0m \u001b[1;31m# processing input training data\u001b[0m\u001b[1;33m\u001b[0m\u001b[1;33m\u001b[0m\u001b[1;33m\u001b[0m\u001b[0m\n\u001b[1;32m----> 2\u001b[1;33m input_train = tf.estimator.inputs.numpy_input_fn(\n\u001b[0m\u001b[0;32m      3\u001b[0m                   \u001b[0mx\u001b[0m \u001b[1;33m=\u001b[0m \u001b[1;33m{\u001b[0m\u001b[1;34m'x'\u001b[0m\u001b[1;33m:\u001b[0m \u001b[0mdatabody\u001b[0m\u001b[1;33m}\u001b[0m\u001b[1;33m,\u001b[0m\u001b[1;33m\u001b[0m\u001b[1;33m\u001b[0m\u001b[0m\n\u001b[0;32m      4\u001b[0m                   \u001b[0my\u001b[0m \u001b[1;33m=\u001b[0m \u001b[0moury\u001b[0m\u001b[1;33m,\u001b[0m\u001b[1;33m\u001b[0m\u001b[1;33m\u001b[0m\u001b[0m\n\u001b[0;32m      5\u001b[0m                   \u001b[0mnum_epochs\u001b[0m \u001b[1;33m=\u001b[0m \u001b[1;36m100\u001b[0m\u001b[1;33m,\u001b[0m\u001b[1;33m\u001b[0m\u001b[1;33m\u001b[0m\u001b[0m\n",
      "\u001b[1;31mAttributeError\u001b[0m: module 'tensorflow_core.estimator' has no attribute 'inputs'"
     ]
    }
   ],
   "source": [
    "# processing input training data\n",
    "input_train = tf.estimator.inputs.numpy_input_fn(\n",
    "                  x = {'x': databody},\n",
    "                  y = oury,\n",
    "                  num_epochs = 100,\n",
    "                  shuffle = False)\n",
    "\n",
    "feature_columns = [tf.feature_column.numeric_column(key='x', shape=(databody.shape[1],))]\n",
    "\n",
    "# makes a deep neural network with 2 hidden layers with 512 neurons each, and 10 output neurons\n",
    "dnn_clf=tf.estimator.DNNClassifier(hidden_units=[512,512], n_classes=10, feature_columns=feature_columns)\n",
    "\n",
    "# fits the DNN to the training data using the training labels\n",
    "dnn_clf.fit(x=databody, y=oury, batch_size=50, steps=40000)\n",
    "\n",
    "# evaluates the performance of the DNN on the training data\n",
    "dnn_clf.evaluate(databody, oury)"
   ]
  },
  {
   "cell_type": "code",
   "execution_count": null,
   "metadata": {},
   "outputs": [],
   "source": []
  }
 ],
 "metadata": {
  "kernelspec": {
   "display_name": "Python 3",
   "language": "python",
   "name": "python3"
  },
  "language_info": {
   "codemirror_mode": {
    "name": "ipython",
    "version": 3
   },
   "file_extension": ".py",
   "mimetype": "text/x-python",
   "name": "python",
   "nbconvert_exporter": "python",
   "pygments_lexer": "ipython3",
   "version": "3.7.3"
  }
 },
 "nbformat": 4,
 "nbformat_minor": 2
}
