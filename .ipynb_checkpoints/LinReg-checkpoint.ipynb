{
 "cells": [
  {
   "cell_type": "code",
   "execution_count": 24,
   "metadata": {},
   "outputs": [],
   "source": [
    "import pandas as pd\n",
    "import numpy as np\n",
    "from sklearn.linear_model import LinearRegression\n",
    "from sklearn.linear_model import Ridge\n",
    "from sklearn.linear_model import Lasso\n",
    "from sklearn.preprocessing import normalize\n",
    "from sklearn.metrics import log_loss\n",
    "import matplotlib.pyplot as plt"
   ]
  },
  {
   "cell_type": "code",
   "execution_count": 16,
   "metadata": {},
   "outputs": [],
   "source": [
    "data = pd.read_csv(\"./data/formatted/playoff/playoffdata201718.csv\")\n",
    "noID = data.drop(labels=[\"ID\",\"ID.1\"], axis=1)\n",
    "noID = np.array(noID)\n",
    "trainData = noID.copy()\n",
    "\n",
    "c= trainData.shape[1]\n",
    "r = trainData.shape[0]\n",
    "\n",
    "ind = np.random.choice(r, int(r/2), replace=False)\n",
    "temp = trainData[ind, 0:int(c/2)]\n",
    "trainData[ind, 0:int(c/2)] = trainData[ind, int(c/2):]\n",
    "trainData[ind, int(c/2):] = temp\n",
    "oury = np.ones((r, 1))\n",
    "oury[ind] = 0\n",
    "\n",
    "data = pd.read_csv(\"./data/formatted/playoff/playoffdata201819.csv\")\n",
    "noID = data.drop(labels=[\"ID\",\"ID.1\"], axis=1)\n",
    "noID = np.array(noID)\n",
    "testData = noID.copy()\n",
    "\n",
    "c= testData.shape[1]\n",
    "r = testData.shape[0]\n",
    "\n",
    "ind = np.random.choice(r, int(r/2), replace=False)\n",
    "temp = testData[ind, 0:int(c/2)]\n",
    "testData[ind, 0:int(c/2)] = testData[ind, int(c/2):]\n",
    "testData[ind, int(c/2):] = temp\n",
    "ytest = np.ones((r, 1))\n",
    "ytest[ind] = 0"
   ]
  },
  {
   "cell_type": "code",
   "execution_count": 17,
   "metadata": {
    "scrolled": true
   },
   "outputs": [
    {
     "name": "stdout",
     "output_type": "stream",
     "text": [
      "(63, 1)\n",
      "prediction: \n",
      "[[0.39774461]\n",
      " [0.60383284]\n",
      " [0.29229409]\n",
      " [0.54881327]\n",
      " [0.24032192]\n",
      " [0.58467079]\n",
      " [0.41053386]\n",
      " [0.26226214]\n",
      " [0.61864777]\n",
      " [0.40038026]\n",
      " [0.36173091]\n",
      " [0.2660425 ]\n",
      " [0.17579681]\n",
      " [0.47226837]\n",
      " [0.27916747]\n",
      " [0.51825753]\n",
      " [0.4069054 ]\n",
      " [0.29519986]\n",
      " [0.39543648]\n",
      " [0.12925668]\n",
      " [0.28205895]\n",
      " [0.42112333]\n",
      " [0.54219222]\n",
      " [0.50642973]\n",
      " [0.41344213]\n",
      " [0.33358876]\n",
      " [0.53454323]\n",
      " [0.21781802]\n",
      " [0.54068256]\n",
      " [0.3281348 ]\n",
      " [0.26902368]\n",
      " [0.6136059 ]\n",
      " [0.25348524]\n",
      " [0.42211915]\n",
      " [0.30772126]\n",
      " [0.36566702]\n",
      " [0.36844277]\n",
      " [0.42836556]\n",
      " [0.2642896 ]\n",
      " [0.26636503]\n",
      " [0.54376863]\n",
      " [0.43155803]\n",
      " [0.2830118 ]\n",
      " [0.36001691]\n",
      " [0.43780156]\n",
      " [0.37902849]\n",
      " [0.48484181]\n",
      " [0.43695654]\n",
      " [0.62925668]\n",
      " [0.18589928]\n",
      " [0.4116017 ]\n",
      " [0.29053095]\n",
      " [0.29297135]\n",
      " [0.44802121]\n",
      " [0.3287248 ]\n",
      " [0.50573846]\n",
      " [0.30258656]\n",
      " [0.45002129]\n",
      " [0.49815579]\n",
      " [0.37961188]\n",
      " [0.39265412]\n",
      " [0.27163586]\n",
      " [0.31875204]]\n",
      "(63, 1)\n"
     ]
    }
   ],
   "source": [
    "reg = LinearRegression().fit(trainData, oury)\n",
    "testResults = reg.predict(testData)\n",
    "\n",
    "print(testResults.shape)\n",
    "smallest = min(testResults)\n",
    "largest = max(testResults)\n",
    "testResults = ((testResults / (largest - smallest)) + 1) / 2\n",
    "print('prediction: ')\n",
    "print(testResults)\n",
    "print(testResults.shape)\n",
    "\n",
    "#plt.scatter(testData, testResults,  color='black')\n",
    "#plt.plot(testData, testResults, color='blue', linewidth=3)\n",
    "#plt.xticks(())\n",
    "#plt.yticks(())\n",
    "#plt.show()"
   ]
  },
  {
   "cell_type": "code",
   "execution_count": 19,
   "metadata": {},
   "outputs": [
    {
     "name": "stdout",
     "output_type": "stream",
     "text": [
      "0.8236141118926862\n"
     ]
    }
   ],
   "source": [
    "logloss = log_loss(ytest, testResults)\n",
    "print(logloss)"
   ]
  },
  {
   "cell_type": "code",
   "execution_count": 22,
   "metadata": {},
   "outputs": [
    {
     "name": "stdout",
     "output_type": "stream",
     "text": [
      "prediction: \n",
      "[[0.18075603]\n",
      " [0.57318344]\n",
      " [0.19385816]\n",
      " [0.45989267]\n",
      " [0.18328974]\n",
      " [0.57003502]\n",
      " [0.36803879]\n",
      " [0.2717399 ]\n",
      " [0.39689639]\n",
      " [0.26978256]\n",
      " [0.35427274]\n",
      " [0.2254629 ]\n",
      " [0.1221886 ]\n",
      " [0.31331878]\n",
      " [0.07629818]\n",
      " [0.31854035]\n",
      " [0.40591876]\n",
      " [0.26000958]\n",
      " [0.38371491]\n",
      " [0.15186729]\n",
      " [0.15620522]\n",
      " [0.33287814]\n",
      " [0.40111845]\n",
      " [0.31155361]\n",
      " [0.33455501]\n",
      " [0.07318344]\n",
      " [0.4552935 ]\n",
      " [0.16679161]\n",
      " [0.38745076]\n",
      " [0.12897924]\n",
      " [0.31742416]\n",
      " [0.39359874]\n",
      " [0.32036244]\n",
      " [0.30889083]\n",
      " [0.36172758]\n",
      " [0.26834382]\n",
      " [0.40969516]\n",
      " [0.40041782]\n",
      " [0.36378056]\n",
      " [0.16353206]\n",
      " [0.45359528]\n",
      " [0.35819327]\n",
      " [0.14909777]\n",
      " [0.32142467]\n",
      " [0.27669851]\n",
      " [0.3892953 ]\n",
      " [0.45437898]\n",
      " [0.52793512]\n",
      " [0.50096704]\n",
      " [0.12562681]\n",
      " [0.39626067]\n",
      " [0.31594881]\n",
      " [0.19515362]\n",
      " [0.37372607]\n",
      " [0.28717716]\n",
      " [0.2899827 ]\n",
      " [0.19729716]\n",
      " [0.37906332]\n",
      " [0.38638592]\n",
      " [0.37257279]\n",
      " [0.22759243]\n",
      " [0.1605013 ]\n",
      " [0.23069689]]\n"
     ]
    }
   ],
   "source": [
    "reg = Ridge().fit(trainData, oury)\n",
    "test2Results = reg.predict(testData)\n",
    "\n",
    "\n",
    "smallest = min(test2Results)\n",
    "largest = max(test2Results)\n",
    "test2Results = ((test2Results / (largest - smallest)) + 1) / 2\n",
    "print('prediction: ')\n",
    "print(test2Results)"
   ]
  },
  {
   "cell_type": "code",
   "execution_count": 23,
   "metadata": {},
   "outputs": [
    {
     "name": "stdout",
     "output_type": "stream",
     "text": [
      "0.8773235878271234\n"
     ]
    }
   ],
   "source": [
    "logloss = log_loss(ytest, test2Results)\n",
    "print(logloss)"
   ]
  },
  {
   "cell_type": "code",
   "execution_count": 26,
   "metadata": {},
   "outputs": [
    {
     "name": "stdout",
     "output_type": "stream",
     "text": [
      "prediction: \n",
      "[0.54458891 0.91006695 0.58063864 0.72417865 0.70682286 0.6610202\n",
      " 0.68512206 0.7626483  0.8252501  0.68824671 0.53269565 0.6564808\n",
      " 0.54992582 0.55709315 0.62808688 0.63515321 0.5779159  0.64394259\n",
      " 0.61120226 0.41006695 0.56501666 0.56934036 0.84605653 0.55310883\n",
      " 0.49929432 0.44063615 0.82295586 0.63958584 0.7889859  0.41571291\n",
      " 0.71674081 0.78155541 0.61196942 0.6379505  0.61098867 0.679003\n",
      " 0.57626623 0.62098074 0.61942901 0.62503448 0.65778151 0.6477183\n",
      " 0.56542849 0.55794108 0.54052193 0.58708777 0.71214664 0.66651624\n",
      " 0.7361133  0.51748619 0.50212023 0.53420226 0.50378052 0.61870023\n",
      " 0.55095861 0.84075894 0.48025024 0.74932374 0.72796719 0.59915614\n",
      " 0.58845073 0.69866117 0.53909713]\n"
     ]
    }
   ],
   "source": [
    "reg = Lasso().fit(trainData, oury)\n",
    "test3Results = reg.predict(testData)\n",
    "\n",
    "\n",
    "smallest = min(test3Results)\n",
    "largest = max(test3Results)\n",
    "test3Results = ((test3Results / (largest - smallest)) + 1) / 2\n",
    "print('prediction: ')\n",
    "print(test3Results)"
   ]
  },
  {
   "cell_type": "code",
   "execution_count": 27,
   "metadata": {},
   "outputs": [
    {
     "name": "stdout",
     "output_type": "stream",
     "text": [
      "0.7254835889854292\n"
     ]
    }
   ],
   "source": [
    "logloss = log_loss(ytest, test3Results)\n",
    "print(logloss)"
   ]
  },
  {
   "cell_type": "code",
   "execution_count": null,
   "metadata": {},
   "outputs": [],
   "source": []
  }
 ],
 "metadata": {
  "kernelspec": {
   "display_name": "Python 3",
   "language": "python",
   "name": "python3"
  },
  "language_info": {
   "codemirror_mode": {
    "name": "ipython",
    "version": 3
   },
   "file_extension": ".py",
   "mimetype": "text/x-python",
   "name": "python",
   "nbconvert_exporter": "python",
   "pygments_lexer": "ipython3",
   "version": "3.7.3"
  }
 },
 "nbformat": 4,
 "nbformat_minor": 2
}
