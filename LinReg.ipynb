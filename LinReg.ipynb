{
 "cells": [
  {
   "cell_type": "code",
   "execution_count": 31,
   "metadata": {},
   "outputs": [],
   "source": [
    "import pandas as pd\n",
    "import numpy as np\n",
    "from sklearn.linear_model import LinearRegression\n",
    "from sklearn.preprocessing import normalize\n",
    "import matplotlib.pyplot as plt"
   ]
  },
  {
   "cell_type": "code",
   "execution_count": 32,
   "metadata": {},
   "outputs": [],
   "source": [
    "data = pd.read_excel(io=\"./data/formatted/processedData201718.xlsx\")\n",
    "data = np.array(data)\n",
    "trainData = data[:, 2:].copy()\n",
    "r = trainData.shape[0]\n",
    "c= trainData.shape[1]\n",
    "ind = np.random.choice(r, int(r/2), replace=False)\n",
    "temp = trainData[ind, 0:int(c/2)]\n",
    "trainData[ind, 0:int(c/2)] = trainData[ind, int(c/2):]\n",
    "trainData[ind, int(c/2):] = temp\n",
    "oury = np.ones((r, 1))\n",
    "oury[ind] = 0\n",
    "\n",
    "data = pd.read_excel(io=\"./data/formatted/processedData201819.xlsx\")\n",
    "data = np.array(data)\n",
    "testData = data[:, 2:].copy()"
   ]
  },
  {
   "cell_type": "code",
   "execution_count": 42,
   "metadata": {
    "scrolled": true
   },
   "outputs": [
    {
     "name": "stdout",
     "output_type": "stream",
     "text": [
      "prediction: \n",
      "[[0.60649489]\n",
      " [0.30532772]\n",
      " [0.38599174]\n",
      " [0.39139529]\n",
      " [0.45009393]\n",
      " [0.42105122]\n",
      " [0.2695457 ]\n",
      " [0.15914089]\n",
      " [0.41616986]\n",
      " [0.47685104]\n",
      " [0.27749609]\n",
      " [0.18770772]\n",
      " [0.27091618]\n",
      " [0.30589021]\n",
      " [0.21799114]\n",
      " [0.50220336]\n",
      " [0.43190881]\n",
      " [0.39770715]\n",
      " [0.13467972]\n",
      " [0.34369191]\n",
      " [0.43302224]\n",
      " [0.55460248]\n",
      " [0.21882041]\n",
      " [0.40684906]\n",
      " [0.35858432]\n",
      " [0.54044531]\n",
      " [0.34924557]\n",
      " [0.27296061]\n",
      " [0.63467972]\n",
      " [0.25207052]\n",
      " [0.33589337]\n",
      " [0.55758777]\n",
      " [0.37874491]\n",
      " [0.36704572]\n",
      " [0.43327603]\n",
      " [0.26229963]\n",
      " [0.2810334 ]\n",
      " [0.35289569]\n",
      " [0.43978384]\n",
      " [0.28664837]\n",
      " [0.4432843 ]\n",
      " [0.26680894]\n",
      " [0.37768433]\n",
      " [0.446083  ]\n",
      " [0.42816121]\n",
      " [0.31459423]\n",
      " [0.1985958 ]\n",
      " [0.49906938]\n",
      " [0.29181634]\n",
      " [0.35948196]\n",
      " [0.39072932]\n",
      " [0.46539502]\n",
      " [0.52877682]\n",
      " [0.35701992]\n",
      " [0.38774553]\n",
      " [0.50855119]\n",
      " [0.38097205]\n",
      " [0.41019127]\n",
      " [0.34257919]\n",
      " [0.40223678]]\n"
     ]
    }
   ],
   "source": [
    "reg = LinearRegression().fit(trainData, oury)\n",
    "testResults = reg.predict(testData)\n",
    "smallest = min(testResults)\n",
    "largest = max(testResults)\n",
    "testResults = ((testResults / (largest - smallest)) + 1) / 2\n",
    "print('prediction: ')\n",
    "print(testResults)\n",
    "\n",
    "#plt.scatter(testData, testResults,  color='black')\n",
    "#plt.plot(testData, testResults, color='blue', linewidth=3)\n",
    "#plt.xticks(())\n",
    "#plt.yticks(())\n",
    "#plt.show()"
   ]
  },
  {
   "cell_type": "code",
   "execution_count": null,
   "metadata": {},
   "outputs": [],
   "source": []
  }
 ],
 "metadata": {
  "kernelspec": {
   "display_name": "Python 3",
   "language": "python",
   "name": "python3"
  },
  "language_info": {
   "codemirror_mode": {
    "name": "ipython",
    "version": 3
   },
   "file_extension": ".py",
   "mimetype": "text/x-python",
   "name": "python",
   "nbconvert_exporter": "python",
   "pygments_lexer": "ipython3",
   "version": "3.7.3"
  }
 },
 "nbformat": 4,
 "nbformat_minor": 2
}
