{
 "cells": [
  {
   "cell_type": "code",
   "execution_count": 2,
   "metadata": {},
   "outputs": [
    {
     "name": "stderr",
     "output_type": "stream",
     "text": [
      "/home/hdang/.pyenv/versions/3.7.0/lib/python3.7/site-packages/pandas/compat/__init__.py:85: UserWarning: Could not import the lzma module. Your installed Python is incomplete. Attempting to use lzma compression will result in a RuntimeError.\n",
      "  warnings.warn(msg)\n",
      "/home/hdang/.pyenv/versions/3.7.0/lib/python3.7/site-packages/pandas/compat/__init__.py:85: UserWarning: Could not import the lzma module. Your installed Python is incomplete. Attempting to use lzma compression will result in a RuntimeError.\n",
      "  warnings.warn(msg)\n"
     ]
    }
   ],
   "source": [
    "import pandas as pd"
   ]
  },
  {
   "cell_type": "code",
   "execution_count": null,
   "metadata": {},
   "outputs": [],
   "source": [
    "# Don't change, there for reference if there is a mismatch in school name\n",
    "translate = {\n",
    "    'Penn': 'Pennsylvania', \n",
    "    'Pitt': 'Pittsburgh',\n",
    "    'USC': 'Southern California',\n",
    "    'UCSB':'UC-Santa Barbara', \n",
    "    'UIC': 'Illinois-Chicago',\n",
    "    'Central Connecticut': 'Central Connecticut State', \n",
    "    'Uconn': 'Connecticut', \n",
    "    'UNC Wilmington':'North Carolina-Wilmington', \n",
    "    'Ole Miss':'Mississippi',\n",
    "    'California':'University of California',\n",
    "    'USC':'Southern California', \n",
    "    'BYU':'Brigham Young', \n",
    "    'HolyCross': 'Holy Cross', \n",
    "    'Crighton': 'Creighton', \n",
    "    'ETSU': 'East Tennessee State', \n",
    "    'LSU': 'Louisiana State', \n",
    "    \"St. Joseph's\": \"Saint Joseph's\", \n",
    "    \"St. Peter's\": \"Saint Peter's\"\n",
    "    'UNC Asheville': 'North Carolina-Asheville', \n",
    "    'NC State': 'North Carolina State', \n",
    "    'UNC': 'North Carolina',\n",
    "    'UCF': 'Central Florida', \n",
    "    'UTEP': 'Texas-El Paso', \n",
    "    'UTSA': 'Texas-San Antonio', \n",
    "    'VCU': 'Virginia Commonwealth', \n",
    "    \"Saint Mary's\": \"Saint Mary's (CA)\",\n",
    "    'UNLV': 'Nevada-Las Vegas',\n",
    "    'UMBC': 'Maryland-Baltimore County',\n",
    "    'LIU-Brooklyn': 'Long Island University',\n",
    "    'Detroit': 'Detroit Mercy',\n",
    "    'Southern Miss': 'Southern Mississippi',\n",
    "    'Umass': 'Massachusetts', \n",
    "    'SMU': 'Southern Methodist', \n",
    "    'TCU': 'Texas Christian', \n",
    "    'UNC Greensboro': 'North Carolina-Greensboro'\n",
    "}"
   ]
  },
  {
   "cell_type": "code",
   "execution_count": 13,
   "metadata": {},
   "outputs": [],
   "source": [
    "# Intialize data set\n",
    "year = \"200001\"\n",
    "basic_data = pd.read_excel(io=\"./data/formatted/basicdata\" + year + \".xlsx\")\n",
    "playoff_data = pd.read_csv(\"./data/playoff/playoffdata\" + year + \".csv\")\n",
    "playoff_data.drop('season', axis=1, inplace=True)"
   ]
  },
  {
   "cell_type": "code",
   "execution_count": 10,
   "metadata": {},
   "outputs": [
    {
     "name": "stdout",
     "output_type": "stream",
     "text": [
      "['Indiana', 'Winthrop']\n",
      "\n",
      "['Saint Joseph’s']\n"
     ]
    }
   ],
   "source": [
    "## basic_data\n",
    "basic_schools = basic_data['School'].tolist()\n",
    "basic_schools.sort()\n",
    "\n",
    "## play off data\n",
    "winnerNames = playoff_data['winnerName'].tolist()\n",
    "loserNames = playoff_data['loserName'].tolist()\n",
    "playoff_schools = list(dict.fromkeys(winnerNames + loserNames))\n",
    "playoff_schools.sort()\n",
    "\n",
    "## comparing\n",
    "same = list()\n",
    "diff = list()\n",
    "results = playoff_schools.copy()\n",
    "for i in basic_schools: \n",
    "    if i in playoff_schools:\n",
    "        same.append(i)\n",
    "        results.remove(i)\n",
    "    else: \n",
    "        diff.append(i)\n",
    "        \n",
    "diff.sort()\n",
    "print(diff)\n",
    "print()\n",
    "print(results)"
   ]
  },
  {
   "cell_type": "code",
   "execution_count": 24,
   "metadata": {},
   "outputs": [],
   "source": [
    "# Intialize data set\n",
    "years = [\n",
    "    '200001', '200102', '200203', '200304', '200405', '200506', '200607', '200708', '200809', '200910',\n",
    "    '201011', '201112', '201213','201314', '201415','201516', '201617', '201718', '201819'\n",
    "]\n",
    "for year in years:\n",
    "    basic_data = pd.read_excel(io=\"./data/formatted/basicdata\" + year + \".xlsx\")\n",
    "    playoff_data = pd.read_csv(\"./data/playoff/playoffdata\" + year + \".csv\")\n",
    "    playoff_data.drop('season', axis=1, inplace=True)\n",
    "\n",
    "    ### Combining data\n",
    "\n",
    "    # winner_data\n",
    "    winner_data = playoff_data.iloc[:, :2]\n",
    "    winner_data = winner_data.merge(basic_data, left_on='winnerName', right_on='School', how='left')\n",
    "    winner_data.drop('School', axis=1, inplace=True)\n",
    "    winner_data.drop('winnerName', axis=1, inplace=True)\n",
    "\n",
    "    # loser data\n",
    "    loser_data = playoff_data.iloc[:,2:]\n",
    "    loser_data = loser_data.merge(basic_data, left_on='loserName', right_on=\"School\", how='left')\n",
    "    loser_data.drop(\"School\", axis=1, inplace=True)\n",
    "    loser_data.drop(\"loserName\", axis=1, inplace=True)\n",
    "\n",
    "    # put together \n",
    "    final_data = pd.concat([winner_data, loser_data], axis=1, join='outer')\n",
    "\n",
    "    #save\n",
    "    path = './data/formatted/playoffdata' + year + '.csv'\n",
    "    final_data.to_csv(path_or_buf=path, index=False)"
   ]
  },
  {
   "cell_type": "code",
   "execution_count": 21,
   "metadata": {},
   "outputs": [],
   "source": []
  }
 ],
 "metadata": {
  "kernelspec": {
   "display_name": "Python 3",
   "language": "python",
   "name": "python3"
  },
  "language_info": {
   "codemirror_mode": {
    "name": "ipython",
    "version": 3
   },
   "file_extension": ".py",
   "mimetype": "text/x-python",
   "name": "python",
   "nbconvert_exporter": "python",
   "pygments_lexer": "ipython3",
   "version": "3.7.0"
  }
 },
 "nbformat": 4,
 "nbformat_minor": 2
}
